{
  "nbformat": 4,
  "nbformat_minor": 0,
  "metadata": {
    "colab": {
      "provenance": [],
      "authorship_tag": "ABX9TyOHsBwyHLws27EWctqc5ux+",
      "include_colab_link": true
    },
    "kernelspec": {
      "name": "python3",
      "display_name": "Python 3"
    },
    "language_info": {
      "name": "python"
    }
  },
  "cells": [
    {
      "cell_type": "markdown",
      "metadata": {
        "id": "view-in-github",
        "colab_type": "text"
      },
      "source": [
        "<a href=\"https://colab.research.google.com/github/sheikhsamra/python-homework-projects/blob/main/01_expressions.ipynb\" target=\"_parent\"><img src=\"https://colab.research.google.com/assets/colab-badge.svg\" alt=\"Open In Colab\"/></a>"
      ]
    },
    {
      "cell_type": "markdown",
      "source": [
        "**01_expressions**\n",
        "\n",
        "**01_dicesimulator**"
      ],
      "metadata": {
        "id": "ngdayit80hy2"
      }
    },
    {
      "cell_type": "markdown",
      "source": [
        "**Problem Statemen**t\n",
        "Simulate rolling two dice, three times. Prints the results of each die roll. This program is used to show how variable scope works."
      ],
      "metadata": {
        "id": "57z_7j9Z0uT3"
      }
    },
    {
      "cell_type": "code",
      "execution_count": 6,
      "metadata": {
        "colab": {
          "base_uri": "https://localhost:8080/"
        },
        "id": "xuiGeXvS0RPM",
        "outputId": "d8947430-2b50-4a19-b62b-82254a8d85b3"
      },
      "outputs": [
        {
          "output_type": "stream",
          "name": "stdout",
          "text": [
            "die1 in main() starts as: 10\n",
            "Total of two dice: 6\n",
            "Total of two dice: 4\n",
            "Total of two dice: 6\n",
            "die1 in main() is: 10\n"
          ]
        }
      ],
      "source": [
        "# Import the random library which lets us simulate random things like dice!\n",
        "import random\n",
        "\n",
        "# Number of sides on each die to roll\n",
        "NUM_SIDES = 6\n",
        "\n",
        "def roll_dice():\n",
        "    \"\"\"\n",
        "    Simulates rolling two dice and prints their total\n",
        "    \"\"\"\n",
        "    die1: int = random.randint(1, NUM_SIDES)\n",
        "    die2: int = random.randint(1, NUM_SIDES)\n",
        "    total: int = die1 + die2\n",
        "    print(\"Total of two dice:\", total)\n",
        "\n",
        "def main():\n",
        "    die1: int = 10\n",
        "    print(\"die1 in main() starts as: \" + str(die1))\n",
        "    roll_dice()\n",
        "    roll_dice()\n",
        "    roll_dice()\n",
        "    print(\"die1 in main() is: \" + str(die1))\n",
        "\n",
        "# This provided line is required at the end of a Python file\n",
        "# to call the main() function.\n",
        "if __name__ == '__main__':\n",
        "    main()"
      ]
    },
    {
      "cell_type": "markdown",
      "source": [
        "**Problem Statement**\n",
        "\n",
        "**02_e=mc2**\n",
        "\n",
        "Write a program that continually reads in mass from the user and then outputs the equivalent energy using Einstein's mass-energy equivalence formula (E stands for energy, m stands for mass, and C is the speed of light:\n",
        "\n",
        "E = m * c**2\n",
        "\n",
        "Almost 100 years ago, Albert Einstein famously discovered that mass and energy are interchangeable and are related by the above equation. You should ask the user for mass (m) in kilograms and use a constant value for the speed of light -- C = 299792458 m/s.\n",
        "\n",
        "Here's a sample run of the program (user input is in bold italics):\n",
        "\n",
        "Enter kilos of mass: 100\n",
        "\n",
        "e = m * C^2...\n",
        "\n",
        "m = 100.0 kg\n",
        "\n",
        "C = 299792458 m/s\n",
        "\n",
        "8.987551787368176e+18 joules of energy!"
      ],
      "metadata": {
        "id": "15WsjaTNHGvd"
      }
    },
    {
      "cell_type": "code",
      "source": [
        "C: int = 299792458  # The speed of light in m/s\n",
        "\n",
        "def main():\n",
        "    mass_in_kg: float = float(input(\"Enter kilos of mass: \"))\n",
        "\n",
        "    # Calculate energy\n",
        "    # equivalently energy = mass * (C ** 2)\n",
        "    # using the ** operator to raise C to the power of 2\n",
        "    energy_in_joules: float = mass_in_kg * (C ** 2)\n",
        "\n",
        "    # Display work to the user\n",
        "    print(\"e = m * C^2...\")\n",
        "    print(\"m = \" + str(mass_in_kg) + \" kg\")\n",
        "    print(\"C = \" + str(C) + \" m/s\")\n",
        "\n",
        "    print(str(energy_in_joules) + \" joules of energy!\")\n",
        "\n",
        "\n",
        "# There is no need to edit code beyond this point\n",
        "\n",
        "if __name__ == '__main__':\n",
        "    main()"
      ],
      "metadata": {
        "colab": {
          "base_uri": "https://localhost:8080/"
        },
        "id": "WQeq-6z6HRZz",
        "outputId": "ba901d2d-3c0a-4a08-f43a-98174ebfcb3d"
      },
      "execution_count": 7,
      "outputs": [
        {
          "output_type": "stream",
          "name": "stdout",
          "text": [
            "Enter kilos of mass: 2\n",
            "e = m * C^2...\n",
            "m = 2.0 kg\n",
            "C = 299792458 m/s\n",
            "1.7975103574736352e+17 joules of energy!\n"
          ]
        }
      ]
    },
    {
      "cell_type": "markdown",
      "source": [
        "**Problem Statement**\n",
        "\n",
        "**03_feet_to_inches.**\n",
        "\n",
        "Converts feet to inches. Feet is an American unit of measurement. There are 12 inches per foot. Foot is the singular, and feet is the plural."
      ],
      "metadata": {
        "id": "dsXD_bUUI3pb"
      }
    },
    {
      "cell_type": "code",
      "source": [
        "# 03_feet_to_inches.\n",
        "\n",
        "INCHES_IN_FOOT: int = 12\n",
        "\n",
        "def main():\n",
        "    feet: float = float(input(\"Enter number of feet: \"))  # Get the number of feet, make sure to cast it to a float!\n",
        "    inches: float = feet * INCHES_IN_FOOT  # Perform the conversion\n",
        "    print(\"That is\", inches, \"inches!\")\n",
        "\n",
        "\n",
        "# This provided line is required at the end of a Python file\n",
        "# to call the main() function.\n",
        "if __name__ == '__main__':\n",
        "    main()"
      ],
      "metadata": {
        "colab": {
          "base_uri": "https://localhost:8080/"
        },
        "id": "q5E5n4R6JASE",
        "outputId": "2f84b2c2-672e-48f7-f1e8-3b524ae96682"
      },
      "execution_count": 9,
      "outputs": [
        {
          "output_type": "stream",
          "name": "stdout",
          "text": [
            "Enter number of feet: 4\n",
            "That is 48.0 inches!\n"
          ]
        }
      ]
    },
    {
      "cell_type": "markdown",
      "source": [
        "**Problem Statement**\n",
        "\n",
        "**04_pythagorean_theorem**\n",
        "\n",
        "Write a program that asks the user for the lengths of the two perpendicular sides of a right triangle and outputs the length of the third side (the hypotenuse) using the Pythagorean theorem!\n",
        "\n",
        "The Pythagorean theorem, named after the ancient Greek thinker, Pythagoras, is a fundamental relation in geometry. It states that in a right triangle, the square of the hypotenuse is equal to the sum of the square of the other two sides.\n",
        "\n",
        "For instance, let's consider a right triangle ABC, with the right angle located at C. According to the Pythagorean theorem:\n",
        "\n",
        "BC ** 2 = AB ** 2 + AC ** 2\n",
        "\n",
        "Your code should read in the lengths of the sides AB and AC, and that outputs the length of the hypotenuse (BC). You will probably find math.sqrt() to be useful.\n",
        "\n",
        "Here's a sample run of the program (user input is in bold italics):\n",
        "\n",
        "Enter the length of AB: 3\n",
        "\n",
        "Enter the length of AC: 4\n",
        "\n",
        "The length of BC (the hypotenuse) is: 5.0"
      ],
      "metadata": {
        "id": "e-xD4QWKJvmV"
      }
    },
    {
      "cell_type": "code",
      "source": [
        "# 04_pythagorean_theorem\n",
        "import math\n",
        "\n",
        "def main():\n",
        "    # Get the two side lengths from the user and cast them to be numbers\n",
        "    ab: float = float(input(\"Enter the length of AB: \"))\n",
        "    ac: float = float(input(\"Enter the length of AC: \"))\n",
        "\n",
        "    # Calculate the hypotenuse using the two sides and print it out\n",
        "    bc: float = math.sqrt(ab**2 + ac**2)\n",
        "    print(\"The length of BC (the hypotenuse) is: \" + str(bc))\n",
        "\n",
        "\n",
        "# There is no need to edit code beyond this point\n",
        "\n",
        "if __name__ == '__main__':\n",
        "    main()\n"
      ],
      "metadata": {
        "colab": {
          "base_uri": "https://localhost:8080/"
        },
        "id": "n4Ylr6-RJ9N2",
        "outputId": "c6ea61cd-065b-4e8b-d09d-e153bab7a196"
      },
      "execution_count": 10,
      "outputs": [
        {
          "output_type": "stream",
          "name": "stdout",
          "text": [
            "Enter the length of AB: 3\n",
            "Enter the length of AC: 4\n",
            "The length of BC (the hypotenuse) is: 5.0\n"
          ]
        }
      ]
    },
    {
      "cell_type": "markdown",
      "source": [
        "**Problem Statement**\n",
        "\n",
        "**05_remainder_division**\n",
        "\n",
        "Ask the user for two numbers, one at a time, and then print the result of dividing the first number by the second and also the remainder of the division.\n",
        "\n",
        "Here's a sample run of the program (user input is in bold italics):\n",
        "\n",
        "Please enter an integer to be divided: 5\n",
        "\n",
        "Please enter an integer to divide by: 3\n",
        "\n",
        "The result of this division is 1 with a remainder of 2"
      ],
      "metadata": {
        "id": "TaEcSTbnLlJL"
      }
    },
    {
      "cell_type": "code",
      "source": [
        "# 05_remainder_division\n",
        "\n",
        "def main():\n",
        "    # Get the numbers we want to divide\n",
        "    dividend: int = int(input(\"Please enter an integer to be divided: \"))\n",
        "    divisor: int = int(input(\"Please enter an integer to divide by: \"))\n",
        "\n",
        "    quotient: int = dividend // divisor  # Divide with no remainder/decimals (integer division)\n",
        "    remainder: int = dividend % divisor  # Get the remainder of the division (modulo)\n",
        "\n",
        "    print(\"The result of this division is \" + str(quotient) + \" with a remainder of \" + str(remainder))\n",
        "\n",
        "\n",
        "# There is no need to edit code beyond this point\n",
        "\n",
        "if __name__ == '__main__':\n",
        "    main()\n",
        ""
      ],
      "metadata": {
        "colab": {
          "base_uri": "https://localhost:8080/"
        },
        "id": "3y09K56fLzGg",
        "outputId": "3229e75e-7858-47f7-aaba-db423bf75c80"
      },
      "execution_count": 11,
      "outputs": [
        {
          "output_type": "stream",
          "name": "stdout",
          "text": [
            "Please enter an integer to be divided: 5\n",
            "Please enter an integer to divide by: 3\n",
            "The result of this division is 1 with a remainder of 2\n"
          ]
        }
      ]
    },
    {
      "cell_type": "markdown",
      "source": [
        "**Problem Statement**\n",
        "\n",
        "**06_rolldice**\n",
        "\n",
        "Simulate rolling two dice, and prints results of each roll as well as the total."
      ],
      "metadata": {
        "id": "rWq47E5IOug8"
      }
    },
    {
      "cell_type": "code",
      "source": [
        "# 06_rolldice\n",
        "\n",
        "import random\n",
        "\n",
        "NUM_SIDES: int = 6\n",
        "\n",
        "def main():\n",
        "  die1: int = random.randint(1, NUM_SIDES)\n",
        "  die2: int = random.randint(1, NUM_SIDES)\n",
        "\n",
        "  total: int = die1 + die2\n",
        "\n",
        "  print(\"Dice have\", NUM_SIDES, \"sides each.\")\n",
        "  print(\"First die\", die1)\n",
        "  print(\"Second die\", die2)\n",
        "  print(\"Total of two dice\", total)\n",
        "\n",
        "if __name__ == \"__main__\":\n",
        "  main()"
      ],
      "metadata": {
        "colab": {
          "base_uri": "https://localhost:8080/"
        },
        "id": "NqzhUWp9PDPL",
        "outputId": "46a6708d-dd3d-4867-9748-6b53f84c6aab"
      },
      "execution_count": 12,
      "outputs": [
        {
          "output_type": "stream",
          "name": "stdout",
          "text": [
            "Dice have 6 sides each.\n",
            "First die 2\n",
            "Second die 5\n",
            "Total of two dice 7\n"
          ]
        }
      ]
    },
    {
      "cell_type": "markdown",
      "source": [
        "**Problem Statement**\n",
        "\n",
        "**06_seconds_in_year.**\n",
        "\n",
        "Use Python to calculate the number of seconds in a year, and tell the user what the result is in a nice print statement that looks like this (of course the value 5 should be the calculated number instead):\n",
        "\n",
        "There are 5 seconds in a year!\n",
        "\n",
        "You should use constants for this exercise -- there are 365 days in a year, 24 hours in a day, 60 minutes in an hour, and 60 seconds per minute."
      ],
      "metadata": {
        "id": "iqwnIpWoQQXA"
      }
    },
    {
      "cell_type": "code",
      "source": [
        "DAYS_PER_YEAR: int = 365\n",
        "HOURS_PER_DAY: int = 24\n",
        "MIN_PER_HOUR: int = 60\n",
        "SEC_PER_MIN: int = 60\n",
        "\n",
        "def main():\n",
        "  print(\"There are \" + str(DAYS_PER_YEAR * HOURS_PER_DAY * MIN_PER_HOUR * SEC_PER_MIN) + \" seconds in a year!\")\n",
        "\n",
        "if __name__ == \"__main__\":\n",
        "  main()\n"
      ],
      "metadata": {
        "colab": {
          "base_uri": "https://localhost:8080/"
        },
        "id": "79anpcl8Qa7e",
        "outputId": "b1405776-e26c-4e28-8bf9-cee987d0d16d"
      },
      "execution_count": 18,
      "outputs": [
        {
          "output_type": "stream",
          "name": "stdout",
          "text": [
            "There are 31536000 seconds in a year!\n"
          ]
        }
      ]
    },
    {
      "cell_type": "markdown",
      "source": [
        "**Problem Statement**\n",
        "\n",
        "**07_tiny_mad_lib**\n",
        "\n",
        "Write a program which prompts the user for an adjective, then a noun, then a verb, and then prints a fun sentence with those words!\n",
        "\n",
        "Mad Libs is a word game where players are prompted for one word at a time, and the words are eventually filled into the blanks of a word template to make an entertaining story! We've provided you with the beginning of a sentence (the SENTENCE_START constant) which will end in a user-inputted adjective, noun, and then verb.\n",
        "\n",
        "Here's a sample run (user input is in bold italics):\n",
        "\n",
        "Please type an adjective and press enter. tiny\n",
        "\n",
        "Please type a noun and press enter. plant\n",
        "\n",
        "Please type a verb and press enter. fly\n",
        "\n",
        "Code in Place is fun. I learned to program and used Python to make my tiny plant fly!"
      ],
      "metadata": {
        "id": "1kjLMlFmRlR9"
      }
    },
    {
      "cell_type": "code",
      "source": [
        "# 07_tiny_mad_lib\n",
        "\n",
        "SENTENCE_START: str = \"Panaversity is fun. I learned to program and used Python to make my \"\n",
        "\n",
        "def main():\n",
        "    # Get the three inputs from the user to make the adlib\n",
        "    adjective: str = input(\"Please type an adjective and press enter. \")\n",
        "    noun: str = input(\"Please type a noun and press enter. \")\n",
        "    verb: str = input(\"Please type a verb and press enter. \")\n",
        "\n",
        "    # Join the inputs together with the sentence starter\n",
        "    print(SENTENCE_START + adjective + \" \" + noun + \" \" + verb + \"!\")\n",
        "\n",
        "\n",
        "# There is no need to edit code beyond this point\n",
        "\n",
        "if __name__ == '__main__':\n",
        "    main()"
      ],
      "metadata": {
        "colab": {
          "base_uri": "https://localhost:8080/"
        },
        "id": "ABSROIUaRv-1",
        "outputId": "7a709d95-9411-44a1-e1bf-dde635ef44c0"
      },
      "execution_count": 20,
      "outputs": [
        {
          "output_type": "stream",
          "name": "stdout",
          "text": [
            "Please type an adjective and press enter. tiny\n",
            "Please type a noun and press enter. plant\n",
            "Please type a verb and press enter. fly\n",
            "Panaversity is fun. I learned to program and used Python to make my tiny plant fly!\n"
          ]
        }
      ]
    }
  ]
}