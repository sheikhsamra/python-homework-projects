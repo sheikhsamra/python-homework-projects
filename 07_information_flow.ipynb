{
  "nbformat": 4,
  "nbformat_minor": 0,
  "metadata": {
    "colab": {
      "provenance": [],
      "authorship_tag": "ABX9TyPkQpyHZs5z0g2Z78exz0WD",
      "include_colab_link": true
    },
    "kernelspec": {
      "name": "python3",
      "display_name": "Python 3"
    },
    "language_info": {
      "name": "python"
    }
  },
  "cells": [
    {
      "cell_type": "markdown",
      "metadata": {
        "id": "view-in-github",
        "colab_type": "text"
      },
      "source": [
        "<a href=\"https://colab.research.google.com/github/sheikhsamra/python-homework-projects/blob/main/07_information_flow.ipynb\" target=\"_parent\"><img src=\"https://colab.research.google.com/assets/colab-badge.svg\" alt=\"Open In Colab\"/></a>"
      ]
    },
    {
      "cell_type": "markdown",
      "source": [
        "**07_information_flow**\n",
        "\n",
        "**00_choosing_returns**\n",
        "\n",
        "**Problem Statement**\n",
        "\n",
        "There are times where we want to return different things from a function based on some condition. To practice this idea, imagine that we want to check if someone is an adult. We might check their age and return different things depending on how old they are!\n",
        "\n",
        "We've provided you with the ADULT_AGE variable which has the age a person is legally classified as an adult (in the United States). Fill out the is_adult(age) function, which returns True if the function takes an age that is greater than or equal to ADULT_AGE. If the function takes an age less than ADULT_AGE, return False instead.\n",
        "\n",
        "Here are two sample runs of the program, one for each return option (user input in bold italics):\n",
        "\n",
        "(Entered age is an adult age)\n",
        "\n",
        "How old is this person?: 35\n",
        "\n",
        "True\n",
        "\n",
        "(Entered age is not an adult age)\n",
        "\n",
        "How old is this person?: 7\n",
        "\n",
        "False"
      ],
      "metadata": {
        "id": "6dagK0FFQ5b8"
      }
    },
    {
      "cell_type": "code",
      "execution_count": 8,
      "metadata": {
        "colab": {
          "base_uri": "https://localhost:8080/"
        },
        "id": "Pqv3Jul_Q1Rp",
        "outputId": "deeb37ef-c9ef-49cf-d755-87f60eb3ae32"
      },
      "outputs": [
        {
          "output_type": "stream",
          "name": "stdout",
          "text": [
            "How old is this person?: 26\n",
            "True\n"
          ]
        }
      ],
      "source": [
        "# 07_information_flow\n",
        "# 00_choosing_returns\n",
        "\n",
        "ADULT_AGE : int = 18\n",
        "\n",
        "def is_adult(age: int):\n",
        "  if age >= ADULT_AGE:\n",
        "    return True\n",
        "  else:\n",
        "    return False\n",
        "\n",
        "def main():\n",
        "      age : str = int(input(\"How old is this person?: \"))\n",
        "      print(is_adult(age))\n",
        "\n",
        "if __name__ == \"__main__\":\n",
        "    main()"
      ]
    },
    {
      "cell_type": "markdown",
      "source": [
        "**01_greetings**\n",
        "\n",
        "**Problem Statement**\n",
        "\n",
        "We've written a helper function for you called greet(name) which takes as input a string name and prints a greeting. Write some code in main() to get the user's name and then greet them, being sure to call the greet(name) helper function.\n",
        "\n",
        "Here's a sample run of the program (user input in bold italics):\n",
        "\n",
        "What's your name? Sophia\n",
        "\n",
        "Greetings Sophia!"
      ],
      "metadata": {
        "id": "oMtzi1A89fQZ"
      }
    },
    {
      "cell_type": "code",
      "source": [
        "# 01_greetings\n",
        "\n",
        "def main():\n",
        "  name :str = input(\"What is your name? \")\n",
        "  print(greet(name))\n",
        "\n",
        "def greet(name):\n",
        "    return \"Greetings \" + name + \"!\"\n",
        "\n",
        "if __name__ == \"__main__\":\n",
        "    main()"
      ],
      "metadata": {
        "colab": {
          "base_uri": "https://localhost:8080/"
        },
        "id": "fAy9E9RQ9tch",
        "outputId": "54b9e304-0abe-4b1a-d8be-1e4e1176fc03"
      },
      "execution_count": 21,
      "outputs": [
        {
          "output_type": "stream",
          "name": "stdout",
          "text": [
            "What is your name? Samra Moinuddin\n",
            "Greetings Samra Moinuddin!\n"
          ]
        }
      ]
    },
    {
      "cell_type": "markdown",
      "source": [
        "**02_in_range**\n",
        "\n",
        "**Problem Statement**\n",
        "\n",
        "Implement the following function which takes in 3 integers as parameters:\n",
        "\n",
        "def in_range(n, low, high) \"\"\" Returns True if n is between low and high, inclusive. high is guaranteed to be greater than low. \"\"\""
      ],
      "metadata": {
        "id": "eeAGocKB-ZsJ"
      }
    },
    {
      "cell_type": "code",
      "source": [
        "# 02_in_range\n",
        "def in_range(n, low, high) -> bool:\n",
        "    \"\"\" Returns True if n is between low and high, inclusive.\n",
        "     high is guaranteed to be greater than low. \"\"\"\n",
        "    if n >= low and n <= high:\n",
        "        return True\n",
        "    return False"
      ],
      "metadata": {
        "id": "FF2BuYx6-lU8"
      },
      "execution_count": 28,
      "outputs": []
    },
    {
      "cell_type": "markdown",
      "source": [
        "**03_in_stock**\n",
        "\n",
        "**Problem Statement**\n",
        "\n",
        "Sophia has a fruit store. She has written a function num_in_stock which takes a string fruit as a parameter and returns how many of that fruit are in her inventory. Write code in main() which will:\n",
        "\n",
        "Prompt the user to enter a fruit (\"Enter a fruit: \")\n",
        "\n",
        "Call num_in_stock(fruit) to get the number of that fruit that Sophia has in stock\n",
        "\n",
        "Print the number which are in stock if Sophia has that fruit in her inventory (there are more than 0 in stock)\n",
        "\n",
        "Print \"This fruit is not in stock.\" if Sophia has none of that fruit in her inventory.\n",
        "\n",
        "Here's two sample runs of the program (user input in bold italics):\n",
        "\n",
        "Enter a fruit: pear\n",
        "\n",
        "This fruit is in stock! Here is how many:\n",
        "\n",
        "1000\n",
        "\n",
        "Enter a fruit: lychee\n",
        "\n",
        "This fruit is not in stock."
      ],
      "metadata": {
        "id": "jU9tAeXXBFSd"
      }
    },
    {
      "cell_type": "code",
      "source": [
        "# 03_in_stock\n",
        "\n",
        "def main():\n",
        "  fruit : str = input(\"Enter a fruit: \")\n",
        "  stock = num_in_stock(fruit)\n",
        "  if stock == 0:\n",
        "    print(\"This frits is not in stock.\")\n",
        "  else:\n",
        "    print(\"This frit is in stock! Here is how many:\")\n",
        "    print(stock)\n",
        "\n",
        "def num_in_stock(fruit):\n",
        "  \"\"\"\n",
        "  This Function return the number of fruits sophia has in stock.\n",
        "  \"\"\"\n",
        "  if fruit == 'apple':\n",
        "    return 2\n",
        "  if fruit == 'durian':\n",
        "    return 4\n",
        "  if fruit == 'pear':\n",
        "    return 1000\n",
        "  else:\n",
        "    return 0\n",
        "\n",
        "if __name__ == \"__main__\":\n",
        "  main()"
      ],
      "metadata": {
        "colab": {
          "base_uri": "https://localhost:8080/"
        },
        "id": "lxJBdygcBOzY",
        "outputId": "cda19087-2f3a-426b-9d9d-fb1853ec44a4"
      },
      "execution_count": 30,
      "outputs": [
        {
          "output_type": "stream",
          "name": "stdout",
          "text": [
            "Enter a fruit: apple\n",
            "This frit is in stock! Here is how many:\n",
            "2\n"
          ]
        }
      ]
    },
    {
      "cell_type": "markdown",
      "source": [
        "**04_multiple_returns**\n",
        "\n",
        "**Problem Statement**\n",
        "\n",
        "There are times where you are working with lots of different data within a function that you want to return. While generally, we want to keep functions to have a precise purpose, sometimes that purpose just deals with multiple bits of data.\n",
        "\n",
        "To practice this, imagine we are working on a program where the user needs to enters data to sign up for a website. Fill out the get_user_data() function which:\n",
        "\n",
        "Asks the user for their first name and stores it in a variable\n",
        "\n",
        "Asks the user for their last name and stores it in a variable\n",
        "\n",
        "Asks the user for their email address and stores it in a variable\n",
        "\n",
        "Returns all three of these pieces of data in the order it was asked\n",
        "\n",
        "You can return multiple pieces of data by separating each piece with a comma in the return line.\n",
        "\n",
        "Here is an example run of the program:\n",
        "\n",
        "What is your first name?: Jane\n",
        "\n",
        "What is your last name?: Stanford\n",
        "\n",
        "What is your email address?: janestanford@stanford.edu\n",
        "\n",
        "Received the following user data: ('Jane', 'Stanford', 'janestanford@stanford.edu')\n",
        "\n",
        "(Note. This idea is called tuple packing/unpacking. We \"pack\" our return values into a single data structure called a tuple. We can then \"unpack\" these values back into our original values or leave them as a tuple.)"
      ],
      "metadata": {
        "id": "NHrmPOhUDRwz"
      }
    },
    {
      "cell_type": "code",
      "source": [
        "# 04_multiple_returns\n",
        "\n",
        "def get_user_info():\n",
        "  first_name: str = input(\"What is your first name?: \")\n",
        "  last_name: str = input(\"What is your last name?: \")\n",
        "  email: str = input(\"What is your email address?: \")\n",
        "  return first_name, last_name, email\n",
        "\n",
        "def main():\n",
        "  user_data = get_user_info()\n",
        "  print(\"Received the following user data:\", user_data)\n",
        "\n",
        "if __name__ == \"__main__\":\n",
        "  main()"
      ],
      "metadata": {
        "colab": {
          "base_uri": "https://localhost:8080/"
        },
        "id": "NA_GxcytDexF",
        "outputId": "a70334bd-91ff-4981-b642-3947e6b56faa"
      },
      "execution_count": 31,
      "outputs": [
        {
          "output_type": "stream",
          "name": "stdout",
          "text": [
            "What is your first name?: Samra\n",
            "What is your last name?: Moinuddin\n",
            "What is your email address?: Karachi\n",
            "Received the following user data: ('Samra', 'Moinuddin', 'Karachi')\n"
          ]
        }
      ]
    },
    {
      "cell_type": "markdown",
      "source": [
        "**05_subtract_7**\n",
        "\n",
        "**Problem Statement**\n",
        "\n",
        "Fill out the subtract_seven helper function to subtract 7 from num, and fill out the main() method to call the subtract_seven helper function! If you're stuck, revisit the add_five example from lecture."
      ],
      "metadata": {
        "id": "0fhyL8CXERBf"
      }
    },
    {
      "cell_type": "code",
      "source": [
        "# 05_subtract_7\n",
        "\n",
        "def main():\n",
        "  num: int = 7\n",
        "  num = subtract_seven(num)\n",
        "  print(\"this should be zero: \", num)\n",
        "\n",
        "def subtract_seven(num):\n",
        "  num = num - 7\n",
        "  return num\n",
        "\n",
        "if __name__ == \"__main__\":\n",
        "  main()"
      ],
      "metadata": {
        "colab": {
          "base_uri": "https://localhost:8080/"
        },
        "id": "VymXhq5KEaIR",
        "outputId": "a4efa95f-8df3-405a-f429-3a89d826745c"
      },
      "execution_count": 33,
      "outputs": [
        {
          "output_type": "stream",
          "name": "stdout",
          "text": [
            "this should be zero:  0\n"
          ]
        }
      ]
    }
  ]
}