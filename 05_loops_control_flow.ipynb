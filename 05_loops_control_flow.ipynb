{
  "nbformat": 4,
  "nbformat_minor": 0,
  "metadata": {
    "colab": {
      "provenance": [],
      "authorship_tag": "ABX9TyNDd5MaGdTEUuQtwXznD5P9",
      "include_colab_link": true
    },
    "kernelspec": {
      "name": "python3",
      "display_name": "Python 3"
    },
    "language_info": {
      "name": "python"
    }
  },
  "cells": [
    {
      "cell_type": "markdown",
      "metadata": {
        "id": "view-in-github",
        "colab_type": "text"
      },
      "source": [
        "<a href=\"https://colab.research.google.com/github/sheikhsamra/python-homework-projects/blob/main/05_loops_control_flow.ipynb\" target=\"_parent\"><img src=\"https://colab.research.google.com/assets/colab-badge.svg\" alt=\"Open In Colab\"/></a>"
      ]
    },
    {
      "cell_type": "markdown",
      "source": [
        "**05_loops_control_flow**\n",
        "\n",
        "**00_guess_my_number**\n",
        "\n",
        "***Problem Statement***\n",
        "\n",
        "*Guess My Number*\n",
        "\n",
        "I am thinking of a number between 0 and 99... Enter a guess: 50 Your guess is too high\n",
        "\n",
        "Enter a new number: 25 Your guess is too low\n",
        "\n",
        "Enter a new number: 40 Your guess is too low\n",
        "\n",
        "Enter a new number: 45 Your guess is too low\n",
        "\n",
        "Enter a new number: 48 Congrats! The number was: 48\n"
      ],
      "metadata": {
        "id": "yWBYpIla6CiY"
      }
    },
    {
      "cell_type": "code",
      "source": [
        "# 00_guess_my_number\n",
        "\n",
        "import random\n",
        "def main():\n",
        "  # Generate the secret number at random!\n",
        "  secret_number = random.randint(1, 99)\n",
        "  print(\"I am thinking of a number between 1 and 99...\")\n",
        "\n",
        "  # Get user's guess\n",
        "  guess = int(input(\"Enter a guess: \"))\n",
        "  # True if guess is not equal to secret number\n",
        "  while guess != secret_number:\n",
        "    if guess < secret_number: # If-statement is True if guess is less than secret number\n",
        "        print(\"Your guess is too low\")\n",
        "    else:\n",
        "        print(\"Your guess is too high\")\n",
        "    print()\n",
        "    guess = int(int(input(\"Enter a new guess: \")))\n",
        "\n",
        "  print(\"Congrats! The number was: \" + str(secret_number))\n",
        "\n",
        "if __name__ == '__main__':\n",
        "    main()"
      ],
      "metadata": {
        "colab": {
          "base_uri": "https://localhost:8080/"
        },
        "id": "-suOQF2N6AXE",
        "outputId": "ec49ec9e-9441-499d-8d51-46871e2ea0ab"
      },
      "execution_count": 6,
      "outputs": [
        {
          "output_type": "stream",
          "name": "stdout",
          "text": [
            "I am thinking of a number between 1 and 99...\n",
            "Enter a guess: 25\n",
            "Your guess is too low\n",
            "\n",
            "Enter a new guess: 40\n",
            "Your guess is too low\n",
            "\n",
            "Enter a new guess: 45\n",
            "Congrats! The number was: 45\n"
          ]
        }
      ]
    },
    {
      "cell_type": "markdown",
      "source": [
        "**01_fibonacci**\n",
        "\n",
        "**Problem Statement**\n",
        "\n",
        "\n",
        "Write a program to print terms in the Fibonacci sequence up to a maximum value.\n",
        "\n",
        "In the 13th century, the Italian mathematician Leonardo Fibonacci, as a way to explain the geometric growth of a population of rabbits, devised a mathematical sequence that now bears his name. The first two terms in this sequence, Fib(0) and Fib(1), are 0 and 1, and every subsequent term is the sum of the preceding two. Thus, the first several terms in the Fibonacci sequence look like this:\n",
        "\n",
        "Fib(0) = 0 Fib(1) = 1 Fib(2) = 1 = 0 + 1 Fib(3) = 2 = 1 + 1 Fib(4) = 3 = 1 + 2 Fib(5) = 5 = 2 + 3\n",
        "\n",
        "Write a program that displays the terms in the Fibonacci sequence, starting with Fib(0) and continuing as long as the terms are less than 10,000 (you should store this value as a constant!). Thus, your program should produce the following sample run:\n",
        "\n",
        "0 1 1 2 3 5 8 13 21 34 55 89 144 233 377 610 987 1597 2584 4181 6765"
      ],
      "metadata": {
        "id": "qfe6n5Lj94rV"
      }
    },
    {
      "cell_type": "code",
      "execution_count": 8,
      "metadata": {
        "colab": {
          "base_uri": "https://localhost:8080/"
        },
        "id": "eBwP2qYN50QM",
        "outputId": "01f5e994-76ca-4646-a03e-bda27e38108b"
      },
      "outputs": [
        {
          "output_type": "stream",
          "name": "stdout",
          "text": [
            "0\n",
            "1\n",
            "1\n",
            "2\n",
            "3\n",
            "5\n",
            "8\n",
            "13\n",
            "21\n",
            "34\n",
            "55\n",
            "89\n",
            "144\n",
            "233\n",
            "377\n",
            "610\n",
            "987\n",
            "1597\n",
            "2584\n",
            "4181\n",
            "6765\n"
          ]
        }
      ],
      "source": [
        "# 01_fibonacci\n",
        "MAX_TERM_VALUE : int = 10000\n",
        "def main():\n",
        "  curr_term = 0\n",
        "  next_term = 1\n",
        "  while curr_term <= MAX_TERM_VALUE:\n",
        "    print(curr_term)\n",
        "    term_after_next = curr_term + next_term\n",
        "    curr_term = next_term\n",
        "    next_term = term_after_next\n",
        "\n",
        "if __name__ == '__main__':\n",
        "  main()"
      ]
    },
    {
      "cell_type": "markdown",
      "source": [
        "**02_print_events**\n",
        "\n",
        "**Problem Statement**\n",
        "\n",
        "Write a program that prints the first 20 even numbers. There are several correct approaches, but they all use a loop of some sort. Do no write twenty print statements\n",
        "\n",
        "The first even number is 0:\n",
        "\n",
        "0 2 4 6 8 10 12 14 16 18 20 22 24 26 28 30 32 34 36 38"
      ],
      "metadata": {
        "id": "LmKlJn5eAA-1"
      }
    },
    {
      "cell_type": "code",
      "source": [
        "# 02_print_events\n",
        "def main():\n",
        "    for i in range(20):\n",
        "        print(i * 2)\n",
        "\n",
        "if __name__ == '__main__':\n",
        "    main()"
      ],
      "metadata": {
        "colab": {
          "base_uri": "https://localhost:8080/"
        },
        "id": "RRBW9D6uAI8s",
        "outputId": "60e17c1e-9b93-4d76-986c-2586b9eefa37"
      },
      "execution_count": 15,
      "outputs": [
        {
          "output_type": "stream",
          "name": "stdout",
          "text": [
            "0\n",
            "2\n",
            "4\n",
            "6\n",
            "8\n",
            "10\n",
            "12\n",
            "14\n",
            "16\n",
            "18\n",
            "20\n",
            "22\n",
            "24\n",
            "26\n",
            "28\n",
            "30\n",
            "32\n",
            "34\n",
            "36\n",
            "38\n"
          ]
        }
      ]
    },
    {
      "cell_type": "markdown",
      "source": [
        "**03_wholesome_machine**\n",
        "\n",
        "**Problem Statement**\n",
        "\n",
        "Write a program which prompts the user to type an affirmation of your choice (we'll use \"I am capable of doing anything I put my mind to.\") until they type it correctly. Sometimes, especially in the midst of such uncertain times, we just need to be reminded that we are resilient, capable, and strong; this little Python program may be able to help!\n",
        "\n",
        "Here's a sample run of the program (user input is in blue):\n",
        "\n",
        "Please type the following affirmation: I am capable of doing anything I put my mind to. Hmmm That was not the affirmation. Please type the following affirmation: I am capable of doing anything I put my mind to. I am capable of doing anything I put my mind to. That's right! :)\n",
        "\n",
        "Note that you can call input() with no prompt and it will still wait for a user to type something!"
      ],
      "metadata": {
        "id": "aqailhPuBFiD"
      }
    },
    {
      "cell_type": "code",
      "source": [
        "# 03_wholesome_machine\n",
        "AFFIRMATION : str = \"I am capable of doing anything I put my mind to.\"\n",
        "\n",
        "def main():\n",
        "    print(\"Please type the following affirmation: \" + AFFIRMATION)\n",
        "\n",
        "    user_feedback = input()  # Get user's input\n",
        "    while user_feedback != AFFIRMATION:  # While the user's input isn't the affirmation\n",
        "        # Tell the user that they did not type the affirmation correctly\n",
        "        print(\"That was not the affirmation.\")\n",
        "\n",
        "        # Ask the user to type the affirmation again!\n",
        "        print(\"Please type the following affirmation: \" + AFFIRMATION)\n",
        "        user_feedback = input()\n",
        "\n",
        "    print(\"That's right! :)\")\n",
        "\n",
        "\n",
        "# There is no need to edit code beyond this point\n",
        "\n",
        "if __name__ == '__main__':\n",
        "    main()"
      ],
      "metadata": {
        "colab": {
          "base_uri": "https://localhost:8080/"
        },
        "id": "O7BarOgVBVlt",
        "outputId": "0dd19bfd-90cd-4700-e6b4-51e84f3a0a17"
      },
      "execution_count": 21,
      "outputs": [
        {
          "output_type": "stream",
          "name": "stdout",
          "text": [
            "Please type the following affirmation: I am capable of doing anything I put my mind to.\n",
            "Hmm\n",
            "That was not the affirmation.\n",
            "Please type the following affirmation: I am capable of doing anything I put my mind to.\n",
            "I am capable of doing anything I put my mind to.\n",
            "That's right! :)\n"
          ]
        }
      ]
    },
    {
      "cell_type": "markdown",
      "source": [
        "**04_liftoff**\n",
        "\n",
        "**Problem Statement**\n",
        "\n",
        "\n",
        "Write a program that prints out the calls for a spaceship that is about to launch. Countdown from 10 to 1 and then output Liftoff!\n",
        "\n",
        "Here's a sample run of the program:\n",
        "\n",
        "10 9 8 7 6 5 4 3 2 1 Liftoff!\n",
        "\n",
        "There are many ways to solve this problem. One approach is to use a for loop, and to use the for loop variable i. Recall that i will keep track of how many times the for loop has completed executing its body. As an example this code:\n",
        "\n",
        "for i in range(10): print(i)\n",
        "\n",
        "Will print out the values 0, 1, 2, 3, 4, 5, 6, 7, 8, 9. The values printed in liftoff are 10 minus the number of times the for loop has completed."
      ],
      "metadata": {
        "id": "aFjukZVVGmd5"
      }
    },
    {
      "cell_type": "code",
      "source": [
        "# 04_liftoff\n",
        "def main():\n",
        "    for i in range(10, 0, -1):  # Start at 10, go down to 1 (not including 0)\n",
        "        print(i, end=' ')  # Print on the same line with space\n",
        "    print(\"Liftoff!\")  # After countdown\n",
        "\n",
        "if __name__ == '__main__':\n",
        "    main()\n"
      ],
      "metadata": {
        "colab": {
          "base_uri": "https://localhost:8080/"
        },
        "id": "5CbKdkJLG8y9",
        "outputId": "95f3129f-94bd-46b5-9fbb-c309d8191052"
      },
      "execution_count": 22,
      "outputs": [
        {
          "output_type": "stream",
          "name": "stdout",
          "text": [
            "10 9 8 7 6 5 4 3 2 1 Liftoff!\n"
          ]
        }
      ]
    },
    {
      "cell_type": "markdown",
      "source": [
        "**05_double**\n",
        "\n",
        "**Problem Statement**\n",
        "Write a program that asks a user to enter a number. Your program will then double that number and print out the result. It will repeat that process until the value is 100 or greater.\n",
        "\n",
        "For example if the user enters the number 2 you would then print:\n",
        "\n",
        "4 8 16 32 64 128\n",
        "\n",
        "Note that:\n",
        "\n",
        "2 doubled is 4\n",
        "\n",
        "4 doubled is 8\n",
        "\n",
        "8 doubled is 16\n",
        "\n",
        "and so on.\n",
        "\n",
        "We stop at 128 because that value is greater than 100.\n",
        "\n",
        "Maintain the current number in a variable named curr_value. When you double the number, you should be updating curr_value. Recall that you can double the value of curr_value using a line like:\n",
        "\n",
        "curr_value = curr_value * 2\n",
        "\n",
        "This program should have a while loop and the while loop condition should test if curr_value is less than 100. Thus, your program will have the line:\n",
        "\n",
        "while curr_value < 100:"
      ],
      "metadata": {
        "id": "-P_aCi0DHn_N"
      }
    },
    {
      "cell_type": "code",
      "source": [
        "# 05_double\n",
        "def main():\n",
        "    # Ask the user to enter a number\n",
        "    curr_value = int(input(\"Enter a number: \"))\n",
        "\n",
        "    # Keep doubling and printing the value until it reaches 100 or more\n",
        "    while curr_value < 100:\n",
        "        curr_value = curr_value * 2\n",
        "        print(curr_value, end=' ')  # print on same line\n",
        "\n",
        "if __name__ == '__main__':\n",
        "    main()\n"
      ],
      "metadata": {
        "colab": {
          "base_uri": "https://localhost:8080/"
        },
        "id": "iPnvjUEUHxkN",
        "outputId": "7535ab69-fee9-486e-fe92-31c45f8343ba"
      },
      "execution_count": 23,
      "outputs": [
        {
          "output_type": "stream",
          "name": "stdout",
          "text": [
            "Enter a number: 2\n",
            "4 8 16 32 64 128 "
          ]
        }
      ]
    }
  ]
}